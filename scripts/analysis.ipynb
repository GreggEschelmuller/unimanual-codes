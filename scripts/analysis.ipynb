{
 "cells": [
  {
   "cell_type": "code",
   "execution_count": 1,
   "id": "85503e2d-46be-4554-9adf-76badc08ea75",
   "metadata": {
    "tags": []
   },
   "outputs": [],
   "source": [
    "import matplotlib as mpl\n",
    "mpl.rcParams[\"axes.spines.right\"] = False\n",
    "mpl.rcParams[\"axes.spines.top\"] = False\n"
   ]
  },
  {
   "cell_type": "code",
   "execution_count": 2,
   "id": "479f4105-0c6f-4c5b-bc3a-eec46cd66b2a",
   "metadata": {
    "tags": []
   },
   "outputs": [
    {
     "data": {
      "text/html": [
       "<div>\n",
       "<style scoped>\n",
       "    .dataframe tbody tr th:only-of-type {\n",
       "        vertical-align: middle;\n",
       "    }\n",
       "\n",
       "    .dataframe tbody tr th {\n",
       "        vertical-align: top;\n",
       "    }\n",
       "\n",
       "    .dataframe thead th {\n",
       "        text-align: right;\n",
       "    }\n",
       "</style>\n",
       "<table border=\"1\" class=\"dataframe\">\n",
       "  <thead>\n",
       "    <tr style=\"text-align: right;\">\n",
       "      <th></th>\n",
       "      <th>trial_num</th>\n",
       "      <th>move_times</th>\n",
       "      <th>elbow_end</th>\n",
       "      <th>curs_end</th>\n",
       "      <th>error</th>\n",
       "      <th>block</th>\n",
       "      <th>trial_delay</th>\n",
       "      <th>target</th>\n",
       "      <th>target_pos</th>\n",
       "      <th>target_amp</th>\n",
       "      <th>full_feedback</th>\n",
       "      <th>terminal_feedback</th>\n",
       "      <th>rotation_direction</th>\n",
       "      <th>rotation</th>\n",
       "      <th>rotation_angle</th>\n",
       "      <th>clamp</th>\n",
       "      <th>clamp_angle</th>\n",
       "      <th>vibration</th>\n",
       "      <th>trial_type</th>\n",
       "    </tr>\n",
       "  </thead>\n",
       "  <tbody>\n",
       "    <tr>\n",
       "      <th>0</th>\n",
       "      <td>1</td>\n",
       "      <td>1.996021</td>\n",
       "      <td>-0.078086</td>\n",
       "      <td>-0.078086</td>\n",
       "      <td>-3.078086</td>\n",
       "      <td>Baseline</td>\n",
       "      <td>0.673</td>\n",
       "      <td>2.921571</td>\n",
       "      <td>0</td>\n",
       "      <td>3</td>\n",
       "      <td>0</td>\n",
       "      <td>0</td>\n",
       "      <td>0</td>\n",
       "      <td>0</td>\n",
       "      <td>0</td>\n",
       "      <td>0</td>\n",
       "      <td>0</td>\n",
       "      <td>1</td>\n",
       "      <td>0</td>\n",
       "    </tr>\n",
       "    <tr>\n",
       "      <th>1</th>\n",
       "      <td>2</td>\n",
       "      <td>1.994229</td>\n",
       "      <td>-0.665060</td>\n",
       "      <td>-0.665060</td>\n",
       "      <td>-3.665060</td>\n",
       "      <td>Baseline</td>\n",
       "      <td>0.593</td>\n",
       "      <td>3.182672</td>\n",
       "      <td>0</td>\n",
       "      <td>3</td>\n",
       "      <td>0</td>\n",
       "      <td>0</td>\n",
       "      <td>0</td>\n",
       "      <td>0</td>\n",
       "      <td>0</td>\n",
       "      <td>0</td>\n",
       "      <td>0</td>\n",
       "      <td>0</td>\n",
       "      <td>0</td>\n",
       "    </tr>\n",
       "    <tr>\n",
       "      <th>2</th>\n",
       "      <td>3</td>\n",
       "      <td>1.996364</td>\n",
       "      <td>0.350498</td>\n",
       "      <td>0.350498</td>\n",
       "      <td>-2.649502</td>\n",
       "      <td>Baseline</td>\n",
       "      <td>0.589</td>\n",
       "      <td>3.175667</td>\n",
       "      <td>0</td>\n",
       "      <td>3</td>\n",
       "      <td>0</td>\n",
       "      <td>0</td>\n",
       "      <td>0</td>\n",
       "      <td>0</td>\n",
       "      <td>0</td>\n",
       "      <td>0</td>\n",
       "      <td>0</td>\n",
       "      <td>3</td>\n",
       "      <td>0</td>\n",
       "    </tr>\n",
       "    <tr>\n",
       "      <th>3</th>\n",
       "      <td>4</td>\n",
       "      <td>1.995545</td>\n",
       "      <td>-0.413500</td>\n",
       "      <td>-0.413500</td>\n",
       "      <td>-3.413500</td>\n",
       "      <td>Baseline</td>\n",
       "      <td>0.489</td>\n",
       "      <td>3.078451</td>\n",
       "      <td>0</td>\n",
       "      <td>3</td>\n",
       "      <td>0</td>\n",
       "      <td>0</td>\n",
       "      <td>0</td>\n",
       "      <td>0</td>\n",
       "      <td>0</td>\n",
       "      <td>0</td>\n",
       "      <td>0</td>\n",
       "      <td>2</td>\n",
       "      <td>0</td>\n",
       "    </tr>\n",
       "    <tr>\n",
       "      <th>4</th>\n",
       "      <td>5</td>\n",
       "      <td>1.994495</td>\n",
       "      <td>0.558579</td>\n",
       "      <td>0.558579</td>\n",
       "      <td>-2.441421</td>\n",
       "      <td>Baseline</td>\n",
       "      <td>0.374</td>\n",
       "      <td>3.053612</td>\n",
       "      <td>0</td>\n",
       "      <td>3</td>\n",
       "      <td>0</td>\n",
       "      <td>0</td>\n",
       "      <td>0</td>\n",
       "      <td>0</td>\n",
       "      <td>0</td>\n",
       "      <td>0</td>\n",
       "      <td>0</td>\n",
       "      <td>3</td>\n",
       "      <td>0</td>\n",
       "    </tr>\n",
       "  </tbody>\n",
       "</table>\n",
       "</div>"
      ],
      "text/plain": [
       "   trial_num  move_times  elbow_end  curs_end     error     block  \\\n",
       "0          1    1.996021  -0.078086 -0.078086 -3.078086  Baseline   \n",
       "1          2    1.994229  -0.665060 -0.665060 -3.665060  Baseline   \n",
       "2          3    1.996364   0.350498  0.350498 -2.649502  Baseline   \n",
       "3          4    1.995545  -0.413500 -0.413500 -3.413500  Baseline   \n",
       "4          5    1.994495   0.558579  0.558579 -2.441421  Baseline   \n",
       "\n",
       "   trial_delay    target  target_pos  target_amp  full_feedback  \\\n",
       "0        0.673  2.921571           0           3              0   \n",
       "1        0.593  3.182672           0           3              0   \n",
       "2        0.589  3.175667           0           3              0   \n",
       "3        0.489  3.078451           0           3              0   \n",
       "4        0.374  3.053612           0           3              0   \n",
       "\n",
       "   terminal_feedback  rotation_direction  rotation  rotation_angle  clamp  \\\n",
       "0                  0                   0         0               0      0   \n",
       "1                  0                   0         0               0      0   \n",
       "2                  0                   0         0               0      0   \n",
       "3                  0                   0         0               0      0   \n",
       "4                  0                   0         0               0      0   \n",
       "\n",
       "   clamp_angle  vibration  trial_type  \n",
       "0            0          1           0  \n",
       "1            0          0           0  \n",
       "2            0          3           0  \n",
       "3            0          2           0  \n",
       "4            0          3           0  "
      ]
     },
     "execution_count": 2,
     "metadata": {},
     "output_type": "execute_result"
    }
   ],
   "source": [
    "import pandas as pd\n",
    "import matplotlib.pyplot as plt\n",
    "import seaborn as sns\n",
    "\n",
    "data = pd.read_csv('../data/P99/p99_Baseline.csv')\n",
    "\n",
    "data.head()"
   ]
  },
  {
   "cell_type": "code",
   "execution_count": 3,
   "id": "94ceb84a-e199-4381-abc3-7f4fbcebd682",
   "metadata": {
    "tags": []
   },
   "outputs": [
    {
     "name": "stderr",
     "output_type": "stream",
     "text": [
      "C:\\Users\\gesch\\AppData\\Local\\Temp\\ipykernel_43412\\1471856088.py:10: UserWarning: FixedFormatter should only be used together with FixedLocator\n",
      "  fig.set_xticklabels([\"No vibration\", \"Dual\", \"Biceps\", \"Triceps\"])\n"
     ]
    },
    {
     "data": {
      "text/plain": [
       "[Text(0, 0, 'No vibration'),\n",
       " Text(1, 0, 'Dual'),\n",
       " Text(2, 0, 'Biceps'),\n",
       " Text(3, 0, 'Triceps')]"
      ]
     },
     "execution_count": 3,
     "metadata": {},
     "output_type": "execute_result"
    },
    {
     "data": {
      "image/png": "[encoded data removed]",
      "text/plain": [
       "<Figure size 640x480 with 1 Axes>"
      ]
     },
     "metadata": {},
     "output_type": "display_data"
    }
   ],
   "source": [
    "fig = sns.pointplot(\n",
    "    data=data,\n",
    "    x=\"vibration\",\n",
    "    y=\"error\",\n",
    "    hue=\"vibration\",\n",
    "    legend=False,\n",
    "    palette=\"Set2\",\n",
    ")\n",
    "\n",
    "fig.set_xticklabels([\"No vibration\", \"Dual\", \"Biceps\", \"Triceps\"])"
   ]
  },
  {
   "cell_type": "code",
   "execution_count": 11,
   "id": "978349d1-8ec8-43b5-9902-e8e7c662c2a8",
   "metadata": {
    "tags": []
   },
   "outputs": [
    {
     "name": "stderr",
     "output_type": "stream",
     "text": [
      "C:\\Users\\gesch\\AppData\\Local\\Temp\\ipykernel_43412\\140836812.py:12: UserWarning: FixedFormatter should only be used together with FixedLocator\n",
      "  fig.set_xticklabels([\"None\", \"Dual\", \"Biceps\", \"Triceps\"])\n"
     ]
    },
    {
     "data": {
      "image/png": "[encoded data removed]",
      "text/plain": [
       "<Figure size 640x480 with 1 Axes>"
      ]
     },
     "metadata": {},
     "output_type": "display_data"
    }
   ],
   "source": [
    "\n",
    "\n",
    "sns.stripplot(\n",
    "    data=data, x=\"vibration\", y=\"error\", hue=\"vibration\",\n",
    "    dodge=True, alpha=.6, legend=False, palette=\"Set2\"\n",
    ")\n",
    "fig = sns.pointplot(\n",
    "    data=data, x=\"vibration\", y=\"error\", hue=\"vibration\",\n",
    "    dodge=0.5, linestyle=\"none\", errorbar=None,\n",
    "    marker=\"_\", markersize=20, markeredgewidth=3, palette=\"Set2\",\n",
    "    legend=False\n",
    ")\n",
    "plt.title('Elbow Extension Targeting')\n",
    "fig.set_xticklabels([\"None\", \"Dual\", \"Biceps\", \"Triceps\"])\n",
    "plt.savefig(\"Vibration-error.png\")"
   ]
  },
  {
   "cell_type": "code",
   "execution_count": null,
   "id": "7dcb58e9-3103-4132-a754-c368d52145c4",
   "metadata": {},
   "outputs": [],
   "source": []
  }
 ],
 "metadata": {
  "kernelspec": {
   "display_name": "Python 3 (ipykernel)",
   "language": "python",
   "name": "python3"
  },
  "language_info": {
   "codemirror_mode": {
    "name": "ipython",
    "version": 3
   },
   "file_extension": ".py",
   "mimetype": "text/x-python",
   "name": "python",
   "nbconvert_exporter": "python",
   "pygments_lexer": "ipython3",
   "version": "3.11.5"
  }
 },
 "nbformat": 4,
 "nbformat_minor": 5
}
